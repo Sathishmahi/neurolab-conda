{
 "cells": [
  {
   "cell_type": "code",
   "execution_count": 1,
   "metadata": {},
   "outputs": [],
   "source": [
    "from neurolab_conda.youtube import render_YouTube_video"
   ]
  },
  {
   "cell_type": "code",
   "execution_count": 4,
   "metadata": {},
   "outputs": [
    {
     "name": "stdout",
     "output_type": "stream",
     "text": [
      "[2022-11-18 14:40:44,944: INFO: youtube]: video starts at: 0\n",
      "[2022-11-18 14:40:44,945: INFO: youtube]: embed URL: https://www.youtube.com/embed/roO5VGxOw2s?start=0\n"
     ]
    },
    {
     "data": {
      "text/html": [
       "<iframe\n",
       "            width=\"780\" height=\"600\"\n",
       "            src=\"https://www.youtube.com/embed/roO5VGxOw2s?start=0\"\n",
       "            title=\"YouTube video player\"\n",
       "            frameborder=\"0\"\n",
       "            allow=\"accelerometer;\n",
       "            autoplay; clipboard-write;\n",
       "            encrypted-media; gyroscope;\n",
       "            picture-in-picture\" allowfullscreen>\n",
       "            </iframe>\n",
       "            "
      ],
      "text/plain": [
       "<IPython.core.display.HTML object>"
      ]
     },
     "metadata": {},
     "output_type": "display_data"
    },
    {
     "data": {
      "text/plain": [
       "'success'"
      ]
     },
     "execution_count": 4,
     "metadata": {},
     "output_type": "execute_result"
    }
   ],
   "source": [
    "URL1 = \"https://www.youtube.com/watch?v=roO5VGxOw2s\"\n",
    "render_YouTube_video(URL1)"
   ]
  },
  {
   "cell_type": "code",
   "execution_count": null,
   "metadata": {},
   "outputs": [],
   "source": []
  }
 ],
 "metadata": {
  "kernelspec": {
   "display_name": "Python 3.8.15 64-bit ('envv')",
   "language": "python",
   "name": "python3"
  },
  "language_info": {
   "codemirror_mode": {
    "name": "ipython",
    "version": 3
   },
   "file_extension": ".py",
   "mimetype": "text/x-python",
   "name": "python",
   "nbconvert_exporter": "python",
   "pygments_lexer": "ipython3",
   "version": "3.8.15"
  },
  "orig_nbformat": 4,
  "vscode": {
   "interpreter": {
    "hash": "ffc09d04ae862e025b29210a40e9b29a62b19aff9d0d36a4195212c8621b4b66"
   }
  }
 },
 "nbformat": 4,
 "nbformat_minor": 2
}
